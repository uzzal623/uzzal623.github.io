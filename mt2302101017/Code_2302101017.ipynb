{
  "nbformat": 4,
  "nbformat_minor": 0,
  "metadata": {
    "colab": {
      "provenance": [],
      "gpuType": "T4"
    },
    "kernelspec": {
      "name": "python3",
      "display_name": "Python 3"
    },
    "language_info": {
      "name": "python"
    },
    "accelerator": "GPU"
  },
  "cells": [
    {
      "cell_type": "code",
      "source": [
        "# needed to import dataset from google drive into colab\n",
        "from google.colab import drive\n",
        "drive.mount(\"/content/gdrive\")"
      ],
      "metadata": {
        "colab": {
          "base_uri": "https://localhost:8080/"
        },
        "id": "tf2VjdPTzoHv",
        "outputId": "17f16c94-8168-40ab-9244-1854e73a3dc7"
      },
      "execution_count": null,
      "outputs": [
        {
          "output_type": "stream",
          "name": "stdout",
          "text": [
            "Mounted at /content/gdrive\n"
          ]
        }
      ]
    },
    {
      "cell_type": "code",
      "source": [
        "import torch\n",
        "\n",
        "if torch.cuda.is_available():\n",
        "    print(\"GPU is available.\")\n",
        "else:\n",
        "    print(\"No GPU available.\")"
      ],
      "metadata": {
        "id": "HljHPRzFrn5z",
        "outputId": "42094a26-2214-4f1b-8044-1e5817ac404a",
        "colab": {
          "base_uri": "https://localhost:8080/"
        }
      },
      "execution_count": null,
      "outputs": [
        {
          "output_type": "stream",
          "name": "stdout",
          "text": [
            "GPU is available.\n"
          ]
        }
      ]
    },
    {
      "cell_type": "code",
      "execution_count": null,
      "metadata": {
        "id": "AaW2V7DTy-nz"
      },
      "outputs": [],
      "source": [
        "import torch\n",
        "import torch.nn as nn\n",
        "import matplotlib.pyplot as plt\n",
        "import numpy as np\n",
        "import pandas as pd\n",
        "import os, glob\n",
        "import librosa\n",
        "import librosa.display\n",
        "import IPython\n",
        "from IPython.display import Audio\n",
        "from IPython.display import Image\n",
        "import warnings; warnings.filterwarnings('ignore') #matplot lib complains about librosa"
      ]
    },
    {
      "cell_type": "code",
      "source": [
        "#google colab has an old version of librosa with missing mel spectrogram args (for MFCC); upgrade to current\n",
        "!pip install -U librosa"
      ],
      "metadata": {
        "colab": {
          "base_uri": "https://localhost:8080/"
        },
        "id": "3LrTGsWtzniH",
        "outputId": "6c642b98-5b92-4cd8-f40b-e14a7b598c59"
      },
      "execution_count": null,
      "outputs": [
        {
          "output_type": "stream",
          "name": "stdout",
          "text": [
            "Requirement already satisfied: librosa in /usr/local/lib/python3.10/dist-packages (0.10.1)\n",
            "Requirement already satisfied: audioread>=2.1.9 in /usr/local/lib/python3.10/dist-packages (from librosa) (3.0.1)\n",
            "Requirement already satisfied: numpy!=1.22.0,!=1.22.1,!=1.22.2,>=1.20.3 in /usr/local/lib/python3.10/dist-packages (from librosa) (1.23.5)\n",
            "Requirement already satisfied: scipy>=1.2.0 in /usr/local/lib/python3.10/dist-packages (from librosa) (1.11.3)\n",
            "Requirement already satisfied: scikit-learn>=0.20.0 in /usr/local/lib/python3.10/dist-packages (from librosa) (1.2.2)\n",
            "Requirement already satisfied: joblib>=0.14 in /usr/local/lib/python3.10/dist-packages (from librosa) (1.3.2)\n",
            "Requirement already satisfied: decorator>=4.3.0 in /usr/local/lib/python3.10/dist-packages (from librosa) (4.4.2)\n",
            "Requirement already satisfied: numba>=0.51.0 in /usr/local/lib/python3.10/dist-packages (from librosa) (0.56.4)\n",
            "Requirement already satisfied: soundfile>=0.12.1 in /usr/local/lib/python3.10/dist-packages (from librosa) (0.12.1)\n",
            "Requirement already satisfied: pooch>=1.0 in /usr/local/lib/python3.10/dist-packages (from librosa) (1.8.0)\n",
            "Requirement already satisfied: soxr>=0.3.2 in /usr/local/lib/python3.10/dist-packages (from librosa) (0.3.7)\n",
            "Requirement already satisfied: typing-extensions>=4.1.1 in /usr/local/lib/python3.10/dist-packages (from librosa) (4.5.0)\n",
            "Requirement already satisfied: lazy-loader>=0.1 in /usr/local/lib/python3.10/dist-packages (from librosa) (0.3)\n",
            "Requirement already satisfied: msgpack>=1.0 in /usr/local/lib/python3.10/dist-packages (from librosa) (1.0.7)\n",
            "Requirement already satisfied: llvmlite<0.40,>=0.39.0dev0 in /usr/local/lib/python3.10/dist-packages (from numba>=0.51.0->librosa) (0.39.1)\n",
            "Requirement already satisfied: setuptools in /usr/local/lib/python3.10/dist-packages (from numba>=0.51.0->librosa) (67.7.2)\n",
            "Requirement already satisfied: platformdirs>=2.5.0 in /usr/local/lib/python3.10/dist-packages (from pooch>=1.0->librosa) (3.11.0)\n",
            "Requirement already satisfied: packaging>=20.0 in /usr/local/lib/python3.10/dist-packages (from pooch>=1.0->librosa) (23.2)\n",
            "Requirement already satisfied: requests>=2.19.0 in /usr/local/lib/python3.10/dist-packages (from pooch>=1.0->librosa) (2.31.0)\n",
            "Requirement already satisfied: threadpoolctl>=2.0.0 in /usr/local/lib/python3.10/dist-packages (from scikit-learn>=0.20.0->librosa) (3.2.0)\n",
            "Requirement already satisfied: cffi>=1.0 in /usr/local/lib/python3.10/dist-packages (from soundfile>=0.12.1->librosa) (1.16.0)\n",
            "Requirement already satisfied: pycparser in /usr/local/lib/python3.10/dist-packages (from cffi>=1.0->soundfile>=0.12.1->librosa) (2.21)\n",
            "Requirement already satisfied: charset-normalizer<4,>=2 in /usr/local/lib/python3.10/dist-packages (from requests>=2.19.0->pooch>=1.0->librosa) (3.3.1)\n",
            "Requirement already satisfied: idna<4,>=2.5 in /usr/local/lib/python3.10/dist-packages (from requests>=2.19.0->pooch>=1.0->librosa) (3.4)\n",
            "Requirement already satisfied: urllib3<3,>=1.21.1 in /usr/local/lib/python3.10/dist-packages (from requests>=2.19.0->pooch>=1.0->librosa) (2.0.7)\n",
            "Requirement already satisfied: certifi>=2017.4.17 in /usr/local/lib/python3.10/dist-packages (from requests>=2.19.0->pooch>=1.0->librosa) (2023.7.22)\n"
          ]
        }
      ]
    },
    {
      "cell_type": "code",
      "source": [
        "!pip install --upgrade librosa"
      ],
      "metadata": {
        "colab": {
          "base_uri": "https://localhost:8080/"
        },
        "id": "OG1G7Cgnziwu",
        "outputId": "241e86b1-f90a-43ec-905b-4edeb33b9ed5"
      },
      "execution_count": null,
      "outputs": [
        {
          "output_type": "stream",
          "name": "stdout",
          "text": [
            "Requirement already satisfied: librosa in /usr/local/lib/python3.10/dist-packages (0.10.1)\n",
            "Requirement already satisfied: audioread>=2.1.9 in /usr/local/lib/python3.10/dist-packages (from librosa) (3.0.1)\n",
            "Requirement already satisfied: numpy!=1.22.0,!=1.22.1,!=1.22.2,>=1.20.3 in /usr/local/lib/python3.10/dist-packages (from librosa) (1.23.5)\n",
            "Requirement already satisfied: scipy>=1.2.0 in /usr/local/lib/python3.10/dist-packages (from librosa) (1.11.3)\n",
            "Requirement already satisfied: scikit-learn>=0.20.0 in /usr/local/lib/python3.10/dist-packages (from librosa) (1.2.2)\n",
            "Requirement already satisfied: joblib>=0.14 in /usr/local/lib/python3.10/dist-packages (from librosa) (1.3.2)\n",
            "Requirement already satisfied: decorator>=4.3.0 in /usr/local/lib/python3.10/dist-packages (from librosa) (4.4.2)\n",
            "Requirement already satisfied: numba>=0.51.0 in /usr/local/lib/python3.10/dist-packages (from librosa) (0.56.4)\n",
            "Requirement already satisfied: soundfile>=0.12.1 in /usr/local/lib/python3.10/dist-packages (from librosa) (0.12.1)\n",
            "Requirement already satisfied: pooch>=1.0 in /usr/local/lib/python3.10/dist-packages (from librosa) (1.8.0)\n",
            "Requirement already satisfied: soxr>=0.3.2 in /usr/local/lib/python3.10/dist-packages (from librosa) (0.3.7)\n",
            "Requirement already satisfied: typing-extensions>=4.1.1 in /usr/local/lib/python3.10/dist-packages (from librosa) (4.5.0)\n",
            "Requirement already satisfied: lazy-loader>=0.1 in /usr/local/lib/python3.10/dist-packages (from librosa) (0.3)\n",
            "Requirement already satisfied: msgpack>=1.0 in /usr/local/lib/python3.10/dist-packages (from librosa) (1.0.7)\n",
            "Requirement already satisfied: llvmlite<0.40,>=0.39.0dev0 in /usr/local/lib/python3.10/dist-packages (from numba>=0.51.0->librosa) (0.39.1)\n",
            "Requirement already satisfied: setuptools in /usr/local/lib/python3.10/dist-packages (from numba>=0.51.0->librosa) (67.7.2)\n",
            "Requirement already satisfied: platformdirs>=2.5.0 in /usr/local/lib/python3.10/dist-packages (from pooch>=1.0->librosa) (3.11.0)\n",
            "Requirement already satisfied: packaging>=20.0 in /usr/local/lib/python3.10/dist-packages (from pooch>=1.0->librosa) (23.2)\n",
            "Requirement already satisfied: requests>=2.19.0 in /usr/local/lib/python3.10/dist-packages (from pooch>=1.0->librosa) (2.31.0)\n",
            "Requirement already satisfied: threadpoolctl>=2.0.0 in /usr/local/lib/python3.10/dist-packages (from scikit-learn>=0.20.0->librosa) (3.2.0)\n",
            "Requirement already satisfied: cffi>=1.0 in /usr/local/lib/python3.10/dist-packages (from soundfile>=0.12.1->librosa) (1.16.0)\n",
            "Requirement already satisfied: pycparser in /usr/local/lib/python3.10/dist-packages (from cffi>=1.0->soundfile>=0.12.1->librosa) (2.21)\n",
            "Requirement already satisfied: charset-normalizer<4,>=2 in /usr/local/lib/python3.10/dist-packages (from requests>=2.19.0->pooch>=1.0->librosa) (3.3.1)\n",
            "Requirement already satisfied: idna<4,>=2.5 in /usr/local/lib/python3.10/dist-packages (from requests>=2.19.0->pooch>=1.0->librosa) (3.4)\n",
            "Requirement already satisfied: urllib3<3,>=1.21.1 in /usr/local/lib/python3.10/dist-packages (from requests>=2.19.0->pooch>=1.0->librosa) (2.0.7)\n",
            "Requirement already satisfied: certifi>=2017.4.17 in /usr/local/lib/python3.10/dist-packages (from requests>=2.19.0->pooch>=1.0->librosa) (2023.7.22)\n"
          ]
        }
      ]
    },
    {
      "cell_type": "markdown",
      "source": [
        "##Define Features"
      ],
      "metadata": {
        "id": "pqjrr7yPdr4z"
      }
    },
    {
      "cell_type": "code",
      "source": [
        "\n",
        "# RAVDESS native sample rate is 48k\n",
        "sample_rate = 48000\n",
        "\n",
        "# Mel Spectrograms are not directly used as a feature in this model\n",
        "# Mel Spectrograms are used in calculating MFCCs, which are a higher-level representation of pitch transition\n",
        "# MFCCs work better - left the mel spectrogram function here in case anyone wants to experiment\n",
        "def feature_melspectrogram(\n",
        "    waveform,\n",
        "    sample_rate,\n",
        "    fft = 1024,\n",
        "    winlen = 512,\n",
        "    window='hamming',\n",
        "    hop=256,\n",
        "    mels=128,\n",
        "    ):\n",
        "\n",
        "    # Produce the mel spectrogram for all STFT frames and get the mean of each column of the resulting matrix to create a feature array\n",
        "    # Using 8khz as upper frequency bound should be enough for most speech classification tasks\n",
        "    melspectrogram = librosa.feature.melspectrogram(\n",
        "        y=waveform,\n",
        "        sr=sample_rate,\n",
        "        n_fft=fft,\n",
        "        win_length=winlen,\n",
        "        window=window,\n",
        "        hop_length=hop,\n",
        "        n_mels=mels,\n",
        "        fmax=sample_rate/2)\n",
        "\n",
        "    # convert from power (amplitude**2) to decibels\n",
        "    # necessary for network to learn - doesn't converge with raw power spectrograms\n",
        "    melspectrogram = librosa.power_to_db(melspectrogram, ref=np.max)\n",
        "\n",
        "    return melspectrogram\n",
        "\n",
        "def feature_mfcc(\n",
        "    waveform,\n",
        "    sample_rate,\n",
        "    n_mfcc = 40,\n",
        "    fft = 1024,\n",
        "    winlen = 512,\n",
        "    window='hamming',\n",
        "    #hop=256, # increases # of time steps; was not helpful\n",
        "    mels=128\n",
        "    ):\n",
        "\n",
        "    # Compute the MFCCs for all STFT frames\n",
        "    # 40 mel filterbanks (n_mfcc) = 40 coefficients\n",
        "    mfc_coefficients=librosa.feature.mfcc(\n",
        "        y=waveform,\n",
        "        sr=sample_rate,\n",
        "        n_mfcc=n_mfcc,\n",
        "        n_fft=fft,\n",
        "        win_length=winlen,\n",
        "        window=window,\n",
        "        #hop_length=hop,\n",
        "        n_mels=mels,\n",
        "        fmax=sample_rate/2\n",
        "        )\n",
        "\n",
        "    return mfc_coefficients\n",
        "\n",
        "def get_features(waveforms, features, samplerate):\n",
        "\n",
        "    # initialize counter to track progress\n",
        "    file_count = 0\n",
        "\n",
        "    # process each waveform individually to get its MFCCs\n",
        "    for waveform in waveforms:\n",
        "        mfccs = feature_mfcc(waveform, sample_rate)\n",
        "        features.append(mfccs)\n",
        "        file_count += 1\n",
        "        # print progress\n",
        "        print('\\r'+f' Processed {file_count}/{len(waveforms)} waveforms',end='')\n",
        "\n",
        "    # return all features from list of waveforms\n",
        "    return features\n",
        "\n",
        "def get_waveforms(file):\n",
        "\n",
        "    # load an individual sample audio file\n",
        "    # read the full 3 seconds of the file, cut off the first 0.5s of silence; native sample rate = 48k\n",
        "    # don't need to store the sample rate that librosa.load returns\n",
        "    waveform, _ = librosa.load(file, duration=3, offset=0.5, sr=sample_rate)\n",
        "\n",
        "    # make sure waveform vectors are homogenous by defining explicitly\n",
        "    waveform_homo = np.zeros((int(sample_rate*3,)))\n",
        "    waveform_homo[:len(waveform)] = waveform\n",
        "\n",
        "    # return a single file's waveform\n",
        "    return waveform_homo\n",
        "\n",
        "# RAVDESS dataset emotions\n",
        "# shift emotions left to be 0 indexed for PyTorch\n",
        "emotions_dict ={\n",
        "    '0':'surprised',\n",
        "    '1':'neutral',\n",
        "    '2':'calm',\n",
        "    '3':'happy',\n",
        "    '4':'sad',\n",
        "    '5':'angry',\n",
        "    '6':'fearful',\n",
        "    '7':'disgust'\n",
        "}\n",
        "\n",
        "# Additional attributes from RAVDESS to play with\n",
        "emotion_attributes = {\n",
        "    '01': 'normal',\n",
        "    '02': 'strong'\n",
        "}"
      ],
      "metadata": {
        "id": "QVrXmi3qztec"
      },
      "execution_count": null,
      "outputs": []
    },
    {
      "cell_type": "markdown",
      "source": [
        "##Load Data and Extract Features"
      ],
      "metadata": {
        "id": "Pqh34QRmd1A7"
      }
    },
    {
      "cell_type": "code",
      "source": [
        "# path to data for glob\n",
        "data_path = '/content/gdrive/MyDrive/data (1)/RAVDESS/Actor_*/*.wav'\n",
        "\n",
        "def load_data():\n",
        "    # features and labels\n",
        "    emotions = []\n",
        "    # raw waveforms to augment later\n",
        "    waveforms = []\n",
        "    # extra labels\n",
        "    intensities, genders = [],[]\n",
        "    # progress counter\n",
        "    file_count = 0\n",
        "    for file in glob.glob(data_path):\n",
        "        # get file name with labels\n",
        "        file_name = os.path.basename(file)\n",
        "\n",
        "        # get emotion label from the sample's file\n",
        "        emotion = int(file_name.split(\"-\")[2])\n",
        "\n",
        "        #  move surprise to 0 for cleaner behaviour with PyTorch/0-indexing\n",
        "        if emotion == 8: emotion = 0 # surprise is now at 0 index; other emotion indeces unchanged\n",
        "\n",
        "        # can convert emotion label to emotion string if desired, but\n",
        "        # training on number is better; better convert to emotion string after predictions are ready\n",
        "        # emotion = emotions_dict[str(emotion)]\n",
        "\n",
        "        # get other labels we might want\n",
        "        intensity = emotion_attributes[file_name.split(\"-\")[3]]\n",
        "        # even actors are female, odd are male\n",
        "        if (int((file_name.split(\"-\")[6]).split(\".\")[0]))%2==0:\n",
        "            gender = 'female'\n",
        "        else:\n",
        "            gender = 'male'\n",
        "\n",
        "        # get waveform from the sample\n",
        "        waveform = get_waveforms(file)\n",
        "\n",
        "        # store waveforms and labels\n",
        "        waveforms.append(waveform)\n",
        "        emotions.append(emotion)\n",
        "        intensities.append(intensity) # store intensity in case we wish to predict\n",
        "        genders.append(gender) # store gender in case we wish to predict\n",
        "\n",
        "        file_count += 1\n",
        "        # keep track of data loader's progress\n",
        "        print('\\r'+f' Processed {file_count}/{1440} audio samples',end='')\n",
        "\n",
        "    return waveforms, emotions, intensities, genders"
      ],
      "metadata": {
        "id": "Bp-b1yxMtK5R"
      },
      "execution_count": null,
      "outputs": []
    },
    {
      "cell_type": "markdown",
      "source": [
        "##Check extracted audio waveforms and labels"
      ],
      "metadata": {
        "id": "5qDX7QS-d7Ni"
      }
    },
    {
      "cell_type": "code",
      "source": [
        "# load data\n",
        "# init explicitly to prevent data leakage from past sessions, since load_data() appends\n",
        "waveforms, emotions, intensities, genders = [],[],[],[]\n",
        "waveforms, emotions, intensities, genders = load_data()"
      ],
      "metadata": {
        "colab": {
          "base_uri": "https://localhost:8080/"
        },
        "id": "dmxPMqTwtlBa",
        "outputId": "9dd857f8-9c7d-4abd-a42b-3a2ca0569c27"
      },
      "execution_count": null,
      "outputs": [
        {
          "output_type": "stream",
          "name": "stdout",
          "text": [
            " Processed 1440/1440 audio samples"
          ]
        }
      ]
    },
    {
      "cell_type": "code",
      "source": [
        "print(f'Waveforms set: {len(waveforms)} samples')\n",
        "# we have 1440 waveforms but we need to know their length too; should be 3 sec * 48k = 144k\n",
        "print(f'Waveform signal length: {len(waveforms[0])}')\n",
        "print(f'Emotions set: {len(emotions)} sample labels')"
      ],
      "metadata": {
        "colab": {
          "base_uri": "https://localhost:8080/"
        },
        "id": "dr6aRv3ltn1Z",
        "outputId": "1274d0a2-b58f-48a1-de39-0f3b1253213b"
      },
      "execution_count": null,
      "outputs": [
        {
          "output_type": "stream",
          "name": "stdout",
          "text": [
            "Waveforms set: 1440 samples\n",
            "Waveform signal length: 144000\n",
            "Emotions set: 1440 sample labels\n"
          ]
        }
      ]
    },
    {
      "cell_type": "markdown",
      "source": [
        "##Split into Train/Validation/Test Sets\n",
        "We'll use an 80/10/10 train/validation/test split to maximize training data and keep a reasonable validation/test set."
      ],
      "metadata": {
        "id": "slaZylZ8d_Dp"
      }
    },
    {
      "cell_type": "code",
      "source": [
        "# create storage for train, validation, test sets and their indices\n",
        "train_set,valid_set,test_set = [],[],[]\n",
        "X_train,X_valid,X_test = [],[],[]\n",
        "y_train,y_valid,y_test = [],[],[]\n",
        "\n",
        "# convert waveforms to array for processing\n",
        "waveforms = np.array(waveforms)\n",
        "\n",
        "# process each emotion separately to make sure we builf balanced train/valid/test sets\n",
        "for emotion_num in range(len(emotions_dict)):\n",
        "\n",
        "    # find all indices of a single unique emotion\n",
        "    emotion_indices = [index for index, emotion in enumerate(emotions) if emotion==emotion_num]\n",
        "\n",
        "    # seed for reproducibility\n",
        "    np.random.seed(69)\n",
        "    # shuffle indicies\n",
        "    emotion_indices = np.random.permutation(emotion_indices)\n",
        "\n",
        "    # store dim (length) of the emotion list to make indices\n",
        "    dim = len(emotion_indices)\n",
        "\n",
        "    # store indices of training, validation and test sets in 80/10/10 proportion\n",
        "    # train set is first 80%\n",
        "    train_indices = emotion_indices[:int(0.8*dim)]\n",
        "    # validation set is next 10% (between 80% and 90%)\n",
        "    valid_indices = emotion_indices[int(0.8*dim):int(0.9*dim)]\n",
        "    # test set is last 10% (between 90% - end/100%)\n",
        "    test_indices = emotion_indices[int(0.9*dim):]\n",
        "\n",
        "    # create train waveforms/labels sets\n",
        "    X_train.append(waveforms[train_indices,:])\n",
        "    y_train.append(np.array([emotion_num]*len(train_indices),dtype=np.int32))\n",
        "    # create validation waveforms/labels sets\n",
        "    X_valid.append(waveforms[valid_indices,:])\n",
        "    y_valid.append(np.array([emotion_num]*len(valid_indices),dtype=np.int32))\n",
        "    # create test waveforms/labels sets\n",
        "    X_test.append(waveforms[test_indices,:])\n",
        "    y_test.append(np.array([emotion_num]*len(test_indices),dtype=np.int32))\n",
        "\n",
        "    # store indices for each emotion set to verify uniqueness between sets\n",
        "    train_set.append(train_indices)\n",
        "    valid_set.append(valid_indices)\n",
        "    test_set.append(test_indices)\n",
        "\n",
        "# concatenate, in order, all waveforms back into one array\n",
        "X_train = np.concatenate(X_train,axis=0)\n",
        "X_valid = np.concatenate(X_valid,axis=0)\n",
        "X_test = np.concatenate(X_test,axis=0)\n",
        "\n",
        "# concatenate, in order, all emotions back into one array\n",
        "y_train = np.concatenate(y_train,axis=0)\n",
        "y_valid = np.concatenate(y_valid,axis=0)\n",
        "y_test = np.concatenate(y_test,axis=0)\n",
        "\n",
        "# combine and store indices for all emotions' train, validation, test sets to verify uniqueness of sets\n",
        "train_set = np.concatenate(train_set,axis=0)\n",
        "valid_set = np.concatenate(valid_set,axis=0)\n",
        "test_set = np.concatenate(test_set,axis=0)\n",
        "\n",
        "# check shape of each set\n",
        "print(f'Training waveforms:{X_train.shape}, y_train:{y_train.shape}')\n",
        "print(f'Validation waveforms:{X_valid.shape}, y_valid:{y_valid.shape}')\n",
        "print(f'Test waveforms:{X_test.shape}, y_test:{y_test.shape}')\n",
        "\n",
        "# make sure train, validation, test sets have no overlap/are unique\n",
        "# get all unique indices across all sets and how many times each index appears (count)\n",
        "uniques, count = np.unique(np.concatenate([train_set,test_set,valid_set],axis=0), return_counts=True)\n",
        "\n",
        "# if each index appears just once, and we have 1440 such unique indices, then all sets are unique\n",
        "if sum(count==1) == len(emotions):\n",
        "    print(f'\\nSets are unique: {sum(count==1)} samples out of {len(emotions)} are unique')\n",
        "else:\n",
        "    print(f'\\nSets are NOT unique: {sum(count==1)} samples out of {len(emotions)} are unique')"
      ],
      "metadata": {
        "colab": {
          "base_uri": "https://localhost:8080/"
        },
        "id": "KRqZ5jKlwzt2",
        "outputId": "3977828f-7db6-4e6f-a447-2ad2f1bd1e5e"
      },
      "execution_count": null,
      "outputs": [
        {
          "output_type": "stream",
          "name": "stdout",
          "text": [
            "Training waveforms:(1147, 144000), y_train:(1147,)\n",
            "Validation waveforms:(143, 144000), y_valid:(143,)\n",
            "Test waveforms:(150, 144000), y_test:(150,)\n",
            "\n",
            "Sets are unique: 1440 samples out of 1440 are unique\n"
          ]
        }
      ]
    },
    {
      "cell_type": "markdown",
      "source": [
        "##Extract Features"
      ],
      "metadata": {
        "id": "WhtDuylreOCh"
      }
    },
    {
      "cell_type": "code",
      "source": [
        "# initialize feature arrays\n",
        "# We extract MFCC features from waveforms and store in respective 'features' array\n",
        "features_train, features_valid, features_test = [],[],[]\n",
        "\n",
        "print('Train waveforms:') # get training set features\n",
        "features_train = get_features(X_train, features_train, sample_rate)\n",
        "\n",
        "print('\\n\\nValidation waveforms:') # get validation set features\n",
        "features_valid = get_features(X_valid, features_valid, sample_rate)\n",
        "\n",
        "print('\\n\\nTest waveforms:') # get test set features\n",
        "features_test = get_features(X_test, features_test, sample_rate)\n",
        "\n",
        "print(f'\\n\\nFeatures set: {len(features_train)+len(features_test)+len(features_valid)} total, {len(features_train)} train, {len(features_valid)} validation, {len(features_test)} test samples')\n",
        "print(f'Features (MFC coefficient matrix) shape: {len(features_train[0])} mel frequency coefficients x {len(features_train[0][1])} time steps')"
      ],
      "metadata": {
        "colab": {
          "base_uri": "https://localhost:8080/"
        },
        "id": "aXJgdxhQxCKc",
        "outputId": "b6fb49e9-caa0-4023-9266-f1d67038bc38"
      },
      "execution_count": null,
      "outputs": [
        {
          "output_type": "stream",
          "name": "stdout",
          "text": [
            "Train waveforms:\n",
            " Processed 1147/1147 waveforms\n",
            "\n",
            "Validation waveforms:\n",
            " Processed 143/143 waveforms\n",
            "\n",
            "Test waveforms:\n",
            " Processed 150/150 waveforms\n",
            "\n",
            "Features set: 1440 total, 1147 train, 143 validation, 150 test samples\n",
            "Features (MFC coefficient matrix) shape: 40 mel frequency coefficients x 282 time steps\n"
          ]
        }
      ]
    },
    {
      "cell_type": "markdown",
      "source": [
        "##Augmenting the Data with AWGN - Additive White Gaussian Noise"
      ],
      "metadata": {
        "id": "gv6-qa5ueStO"
      }
    },
    {
      "cell_type": "code",
      "source": [
        "def awgn_augmentation(waveform, multiples=2, bits=16, snr_min=15, snr_max=30):\n",
        "\n",
        "    # get length of waveform (should be 3*48k = 144k)\n",
        "    wave_len = len(waveform)\n",
        "\n",
        "    # Generate normally distributed (Gaussian) noises\n",
        "    # one for each waveform and multiple (i.e. wave_len*multiples noises)\n",
        "    noise = np.random.normal(size=(multiples, wave_len))\n",
        "\n",
        "    # Normalize waveform and noise\n",
        "    norm_constant = 2.0**(bits-1)\n",
        "    norm_wave = waveform / norm_constant\n",
        "    norm_noise = noise / norm_constant\n",
        "\n",
        "    # Compute power of waveform and power of noise\n",
        "    signal_power = np.sum(norm_wave ** 2) / wave_len\n",
        "    noise_power = np.sum(norm_noise ** 2, axis=1) / wave_len\n",
        "\n",
        "    # Choose random SNR in decibels in range [15,30]\n",
        "    snr = np.random.randint(snr_min, snr_max)\n",
        "\n",
        "    # Apply whitening transformation: make the Gaussian noise into Gaussian white noise\n",
        "    # Compute the covariance matrix used to whiten each noise\n",
        "    # actual SNR = signal/noise (power)\n",
        "    # actual noise power = 10**(-snr/10)\n",
        "    covariance = np.sqrt((signal_power / noise_power) * 10 ** (- snr / 10))\n",
        "    # Get covariance matrix with dim: (144000, 2) so we can transform 2 noises: dim (2, 144000)\n",
        "    covariance = np.ones((wave_len, multiples)) * covariance\n",
        "\n",
        "    # Since covariance and noise are arrays, * is the haddamard product\n",
        "    # Take Haddamard product of covariance and noise to generate white noise\n",
        "    multiple_augmented_waveforms = waveform + covariance.T * noise\n",
        "\n",
        "    return multiple_augmented_waveforms"
      ],
      "metadata": {
        "id": "1d5RJMD2xCA-"
      },
      "execution_count": null,
      "outputs": []
    },
    {
      "cell_type": "code",
      "source": [
        "def augment_waveforms(waveforms, features, emotions, multiples):\n",
        "    # keep track of how many waveforms we've processed so we can add correct emotion label in the same order\n",
        "    emotion_count = 0\n",
        "    # keep track of how many augmented samples we've added\n",
        "    added_count = 0\n",
        "    # convert emotion array to list for more efficient appending\n",
        "    emotions = emotions.tolist()\n",
        "\n",
        "    for waveform in waveforms:\n",
        "\n",
        "        # Generate 2 augmented multiples of the dataset, i.e. 1440 native + 1440*2 noisy = 4320 samples total\n",
        "        augmented_waveforms = awgn_augmentation(waveform, multiples=multiples)\n",
        "\n",
        "        # compute spectrogram for each of 2 augmented waveforms\n",
        "        for augmented_waveform in augmented_waveforms:\n",
        "\n",
        "            # Compute MFCCs over augmented waveforms\n",
        "            augmented_mfcc = feature_mfcc(augmented_waveform, sample_rate=sample_rate)\n",
        "\n",
        "            # append the augmented spectrogram to the rest of the native data\n",
        "            features.append(augmented_mfcc)\n",
        "            emotions.append(emotions[emotion_count])\n",
        "\n",
        "            # keep track of new augmented samples\n",
        "            added_count += 1\n",
        "\n",
        "            # check progress\n",
        "            print('\\r'+f'Processed {emotion_count + 1}/{len(waveforms)} waveforms for {added_count}/{len(waveforms)*multiples} new augmented samples',end='')\n",
        "\n",
        "        # keep track of the emotion labels to append in order\n",
        "        emotion_count += 1\n",
        "\n",
        "        # store augmented waveforms to check their shape\n",
        "        augmented_waveforms_temp.append(augmented_waveforms)\n",
        "\n",
        "    return features, emotions"
      ],
      "metadata": {
        "id": "A6E-RUyjxBxv"
      },
      "execution_count": null,
      "outputs": []
    },
    {
      "cell_type": "markdown",
      "source": [
        "##Compute AWGN-augmented features and add to the rest of the dataset"
      ],
      "metadata": {
        "id": "xzeA200Yea-q"
      }
    },
    {
      "cell_type": "code",
      "source": [
        "# store augmented waveforms to verify their shape and random-ness\n",
        "augmented_waveforms_temp = []\n",
        "\n",
        "# specify multiples of our dataset to add as augmented data\n",
        "multiples = 2\n",
        "\n",
        "print('Train waveforms:') # augment waveforms of training set\n",
        "features_train , y_train = augment_waveforms(X_train, features_train, y_train, multiples)\n",
        "\n",
        "print('\\n\\nValidation waveforms:') # augment waveforms of validation set\n",
        "features_valid, y_valid = augment_waveforms(X_valid, features_valid, y_valid, multiples)\n",
        "\n",
        "print('\\n\\nTest waveforms:') # augment waveforms of test set\n",
        "features_test, y_test = augment_waveforms(X_test, features_test, y_test, multiples)\n",
        "\n",
        "# Check new shape of extracted features and data:\n",
        "print(f'\\n\\nNative + Augmented Features set: {len(features_train)+len(features_test)+len(features_valid)} total, {len(features_train)} train, {len(features_valid)} validation, {len(features_test)} test samples')\n",
        "print(f'{len(y_train)} training sample labels, {len(y_valid)} validation sample labels, {len(y_test)} test sample labels')\n",
        "print(f'Features (MFCC matrix) shape: {len(features_train[0])} mel frequency coefficients x {len(features_train[0][1])} time steps')"
      ],
      "metadata": {
        "colab": {
          "base_uri": "https://localhost:8080/"
        },
        "id": "sKSpBpIVxA0U",
        "outputId": "30204cf4-ae2d-47cb-a32a-f3be954b05b1"
      },
      "execution_count": null,
      "outputs": [
        {
          "output_type": "stream",
          "name": "stdout",
          "text": [
            "Train waveforms:\n",
            "Processed 1147/1147 waveforms for 2294/2294 new augmented samples\n",
            "\n",
            "Validation waveforms:\n",
            "Processed 143/143 waveforms for 286/286 new augmented samples\n",
            "\n",
            "Test waveforms:\n",
            "Processed 150/150 waveforms for 300/300 new augmented samples\n",
            "\n",
            "Native + Augmented Features set: 4320 total, 3441 train, 429 validation, 450 test samples\n",
            "3441 training sample labels, 429 validation sample labels, 450 test sample labels\n",
            "Features (MFCC matrix) shape: 40 mel frequency coefficients x 282 time steps\n"
          ]
        }
      ]
    },
    {
      "cell_type": "markdown",
      "source": [
        "##Format Data into Tensor Ready 4D Arrays"
      ],
      "metadata": {
        "id": "lGH4-gl6ejgw"
      }
    },
    {
      "cell_type": "code",
      "source": [
        "# need to make dummy input channel for CNN input feature tensor\n",
        "X_train = np.expand_dims(features_train,1)\n",
        "X_valid = np.expand_dims(features_valid, 1)\n",
        "X_test = np.expand_dims(features_test,1)\n",
        "\n",
        "# convert emotion labels from list back to numpy arrays for PyTorch to work with\n",
        "y_train = np.array(y_train)\n",
        "y_valid = np.array(y_valid)\n",
        "y_test = np.array(y_test)\n",
        "\n",
        "# confiorm that we have tensor-ready 4D data array\n",
        "# should print (batch, channel, width, height) == (4320, 1, 128, 282) when multiples==2\n",
        "print(f'Shape of 4D feature array for input tensor: {X_train.shape} train, {X_valid.shape} validation, {X_test.shape} test')\n",
        "print(f'Shape of emotion labels: {y_train.shape} train, {y_valid.shape} validation, {y_test.shape} test')"
      ],
      "metadata": {
        "colab": {
          "base_uri": "https://localhost:8080/"
        },
        "id": "q0ZYnaG0yd7E",
        "outputId": "1ac260b4-f95e-4b04-94e1-ddfb28dcf45a"
      },
      "execution_count": null,
      "outputs": [
        {
          "output_type": "stream",
          "name": "stdout",
          "text": [
            "Shape of 4D feature array for input tensor: (3441, 1, 40, 282) train, (429, 1, 40, 282) validation, (450, 1, 40, 282) test\n",
            "Shape of emotion labels: (3441,) train, (429,) validation, (450,) test\n"
          ]
        }
      ]
    },
    {
      "cell_type": "code",
      "source": [
        "# free up some RAM - no longer need full feature set or any waveforms\n",
        "del features_train, features_valid, features_test, waveforms, augmented_waveforms_temp"
      ],
      "metadata": {
        "id": "xPw3P3xfyosr"
      },
      "execution_count": null,
      "outputs": []
    },
    {
      "cell_type": "markdown",
      "source": [
        "##Feature Scaling"
      ],
      "metadata": {
        "id": "-QhMDQbneoMP"
      }
    },
    {
      "cell_type": "code",
      "source": [
        "from sklearn.preprocessing import StandardScaler\n",
        "\n",
        "scaler = StandardScaler()\n",
        "\n",
        "#### Scale the training data ####\n",
        "# store shape so we can transform it back\n",
        "N,C,H,W = X_train.shape\n",
        "# Reshape to 1D because StandardScaler operates on a 1D array\n",
        "# tell numpy to infer shape of 1D array with '-1' argument\n",
        "X_train = np.reshape(X_train, (N,-1))\n",
        "X_train = scaler.fit_transform(X_train)\n",
        "# Transform back to NxCxHxW 4D tensor format\n",
        "X_train = np.reshape(X_train, (N,C,H,W))\n",
        "\n",
        "##### Scale the validation set ####\n",
        "N,C,H,W = X_valid.shape\n",
        "X_valid = np.reshape(X_valid, (N,-1))\n",
        "X_valid = scaler.transform(X_valid)\n",
        "X_valid = np.reshape(X_valid, (N,C,H,W))\n",
        "\n",
        "#### Scale the test set ####\n",
        "N,C,H,W = X_test.shape\n",
        "X_test = np.reshape(X_test, (N,-1))\n",
        "X_test = scaler.transform(X_test)\n",
        "X_test = np.reshape(X_test, (N,C,H,W))\n",
        "\n",
        "# check shape of each set again\n",
        "print(f'X_train scaled:{X_train.shape}, y_train:{y_train.shape}')\n",
        "print(f'X_valid scaled:{X_valid.shape}, y_valid:{y_valid.shape}')\n",
        "print(f'X_test scaled:{X_test.shape}, y_test:{y_test.shape}')"
      ],
      "metadata": {
        "id": "JPzH7B30yokK",
        "colab": {
          "base_uri": "https://localhost:8080/"
        },
        "outputId": "732a8c54-ba16-4771-d393-85d07814f095"
      },
      "execution_count": null,
      "outputs": [
        {
          "output_type": "stream",
          "name": "stdout",
          "text": [
            "X_train scaled:(3441, 1, 40, 282), y_train:(3441,)\n",
            "X_valid scaled:(429, 1, 40, 282), y_valid:(429,)\n",
            "X_test scaled:(450, 1, 40, 282), y_test:(450,)\n"
          ]
        }
      ]
    },
    {
      "cell_type": "markdown",
      "source": [
        "\n",
        "##Save and Reload Data as NumPy Arrays"
      ],
      "metadata": {
        "id": "ujPI2GfMesun"
      }
    },
    {
      "cell_type": "code",
      "source": [
        "###### SAVE #########\n",
        "# choose save file name\n",
        "filename = 'features+labels.npy'\n",
        "\n",
        "# open file in write mode and write data\n",
        "with open(filename, 'wb') as f:\n",
        "    np.save(f, X_train)\n",
        "    np.save(f, X_valid)\n",
        "    np.save(f, X_test)\n",
        "    np.save(f, y_train)\n",
        "    np.save(f, y_valid)\n",
        "    np.save(f, y_test)\n",
        "\n",
        "print(f'Features and labels saved to {filename}')"
      ],
      "metadata": {
        "id": "sw6JrQQny3Hf",
        "colab": {
          "base_uri": "https://localhost:8080/"
        },
        "outputId": "8ec605be-0f0a-4a8e-f65e-5c11dd74ae25"
      },
      "execution_count": null,
      "outputs": [
        {
          "output_type": "stream",
          "name": "stdout",
          "text": [
            "Features and labels saved to features+labels.npy\n"
          ]
        }
      ]
    },
    {
      "cell_type": "code",
      "source": [
        "##### LOAD #########\n",
        "# choose load file name\n",
        "filename = 'features+labels.npy'\n",
        "\n",
        "# open file in read mode and read data\n",
        "with open(filename, 'rb') as f:\n",
        "    X_train = np.load(f)\n",
        "    X_valid = np.load(f)\n",
        "    X_test = np.load(f)\n",
        "    y_train = np.load(f)\n",
        "    y_valid = np.load(f)\n",
        "    y_test = np.load(f)\n",
        "\n",
        "# Check that we've recovered the right data\n",
        "print(f'X_train:{X_train.shape}, y_train:{y_train.shape}')\n",
        "print(f'X_valid:{X_valid.shape}, y_valid:{y_valid.shape}')\n",
        "print(f'X_test:{X_test.shape}, y_test:{y_test.shape}')"
      ],
      "metadata": {
        "id": "8M93SCYfy27N",
        "colab": {
          "base_uri": "https://localhost:8080/"
        },
        "outputId": "d5ad9973-688f-47b9-88b6-352cf821d1f3"
      },
      "execution_count": null,
      "outputs": [
        {
          "output_type": "stream",
          "name": "stdout",
          "text": [
            "X_train:(3441, 1, 40, 282), y_train:(3441,)\n",
            "X_valid:(429, 1, 40, 282), y_valid:(429,)\n",
            "X_test:(450, 1, 40, 282), y_test:(450,)\n"
          ]
        }
      ]
    },
    {
      "cell_type": "markdown",
      "source": [
        "##Build Model Architecture and Define Forward Pass"
      ],
      "metadata": {
        "id": "-dgylyH2exDt"
      }
    },
    {
      "cell_type": "code",
      "source": [
        "#change nn.sequential to take dict to make more readable\n",
        "\n",
        "class parallel_all_you_want(nn.Module):\n",
        "    # Define all layers present in the network\n",
        "    def __init__(self,num_emotions):\n",
        "        super().__init__()\n",
        "\n",
        "        ################ TRANSFORMER BLOCK #############################\n",
        "        # maxpool the input feature map/tensor to the transformer\n",
        "        # a rectangular kernel worked better here for the rectangular input spectrogram feature map/tensor\n",
        "        self.transformer_maxpool = nn.MaxPool2d(kernel_size=[1,4], stride=[1,4])\n",
        "\n",
        "        # define single transformer encoder layer\n",
        "        # self-attention + feedforward network from \"Attention is All You Need\" paper\n",
        "        # 4 multi-head self-attention layers each with 40-->512--->40 feedforward network\n",
        "        transformer_layer = nn.TransformerEncoderLayer(\n",
        "            d_model=40, # input feature (frequency) dim after maxpooling 40*282 -> 40*70 (MFC*time)\n",
        "            nhead=4, # 4 self-attention layers in each multi-head self-attention layer in each encoder block\n",
        "            dim_feedforward=512, # 2 linear layers in each encoder block's feedforward network: dim 40-->512--->40\n",
        "            dropout=0.4,\n",
        "            activation='relu' # ReLU: avoid saturation/tame gradient/reduce compute time\n",
        "        )\n",
        "\n",
        "        # I'm using 4 instead of the 6 identical stacked encoder layrs used in Attention is All You Need paper\n",
        "        # Complete transformer block contains 4 full transformer encoder layers (each w/ multihead self-attention+feedforward)\n",
        "        self.transformer_encoder = nn.TransformerEncoder(transformer_layer, num_layers=4)\n",
        "\n",
        "        ############### 1ST PARALLEL 2D CONVOLUTION BLOCK ############\n",
        "        # 3 sequential conv2D layers: (1,40,282) --> (16, 20, 141) -> (32, 5, 35) -> (64, 1, 8)\n",
        "        self.conv2Dblock1 = nn.Sequential(\n",
        "\n",
        "            # 1st 2D convolution layer\n",
        "            nn.Conv2d(\n",
        "                in_channels=1, # input volume depth == input channel dim == 1\n",
        "                out_channels=16, # expand output feature map volume's depth to 16\n",
        "                kernel_size=3, # typical 3*3 stride 1 kernel\n",
        "                stride=1,\n",
        "                padding=1\n",
        "                      ),\n",
        "            nn.BatchNorm2d(16), # batch normalize the output feature map before activation\n",
        "            nn.ReLU(), # feature map --> activation map\n",
        "            nn.MaxPool2d(kernel_size=2, stride=2), #typical maxpool kernel size\n",
        "            nn.Dropout(p=0.3), #randomly zero 30% of 1st layer's output feature map in training\n",
        "\n",
        "            # 2nd 2D convolution layer identical to last except output dim, maxpool kernel\n",
        "            nn.Conv2d(\n",
        "                in_channels=16,\n",
        "                out_channels=32, # expand output feature map volume's depth to 32\n",
        "                kernel_size=3,\n",
        "                stride=1,\n",
        "                padding=1\n",
        "                      ),\n",
        "            nn.BatchNorm2d(32),\n",
        "            nn.ReLU(),\n",
        "            nn.MaxPool2d(kernel_size=4, stride=4), # increase maxpool kernel for subsequent filters\n",
        "            nn.Dropout(p=0.3),\n",
        "\n",
        "            # 3rd 2D convolution layer identical to last except output dim\n",
        "            nn.Conv2d(\n",
        "                in_channels=32,\n",
        "                out_channels=64, # expand output feature map volume's depth to 64\n",
        "                kernel_size=3,\n",
        "                stride=1,\n",
        "                padding=1\n",
        "                      ),\n",
        "            nn.BatchNorm2d(64),\n",
        "            nn.ReLU(),\n",
        "            nn.MaxPool2d(kernel_size=4, stride=4),\n",
        "            nn.Dropout(p=0.3),\n",
        "        )\n",
        "        ############### 2ND PARALLEL 2D CONVOLUTION BLOCK ############\n",
        "        # 3 sequential conv2D layers: (1,40,282) --> (16, 20, 141) -> (32, 5, 35) -> (64, 1, 8)\n",
        "        self.conv2Dblock2 = nn.Sequential(\n",
        "\n",
        "            # 1st 2D convolution layer\n",
        "            nn.Conv2d(\n",
        "                in_channels=1, # input volume depth == input channel dim == 1\n",
        "                out_channels=16, # expand output feature map volume's depth to 16\n",
        "                kernel_size=3, # typical 3*3 stride 1 kernel\n",
        "                stride=1,\n",
        "                padding=1\n",
        "                      ),\n",
        "            nn.BatchNorm2d(16), # batch normalize the output feature map before activation\n",
        "            nn.ReLU(), # feature map --> activation map\n",
        "            nn.MaxPool2d(kernel_size=2, stride=2), #typical maxpool kernel size\n",
        "            nn.Dropout(p=0.3), #randomly zero 30% of 1st layer's output feature map in training\n",
        "\n",
        "            # 2nd 2D convolution layer identical to last except output dim, maxpool kernel\n",
        "            nn.Conv2d(\n",
        "                in_channels=16,\n",
        "                out_channels=32, # expand output feature map volume's depth to 32\n",
        "                kernel_size=3,\n",
        "                stride=1,\n",
        "                padding=1\n",
        "                      ),\n",
        "            nn.BatchNorm2d(32),\n",
        "            nn.ReLU(),\n",
        "            nn.MaxPool2d(kernel_size=4, stride=4), # increase maxpool kernel for subsequent filters\n",
        "            nn.Dropout(p=0.3),\n",
        "\n",
        "            # 3rd 2D convolution layer identical to last except output dim\n",
        "            nn.Conv2d(\n",
        "                in_channels=32,\n",
        "                out_channels=64, # expand output feature map volume's depth to 64\n",
        "                kernel_size=3,\n",
        "                stride=1,\n",
        "                padding=1\n",
        "                      ),\n",
        "            nn.BatchNorm2d(64),\n",
        "            nn.ReLU(),\n",
        "            nn.MaxPool2d(kernel_size=4, stride=4),\n",
        "            nn.Dropout(p=0.3),\n",
        "        )\n",
        "\n",
        "        ################# FINAL LINEAR BLOCK ####################\n",
        "        # Linear softmax layer to take final concatenated embedding tensor\n",
        "        #    from parallel 2D convolutional and transformer blocks, output 8 logits\n",
        "        # Each full convolution block outputs (64*1*8) embedding flattened to dim 512 1D array\n",
        "        # Full transformer block outputs 40*70 feature map, which we time-avg to dim 40 1D array\n",
        "        # 512*2+40 == 1064 input features --> 8 output emotions\n",
        "        self.fc1_linear = nn.Linear(512*2+40,num_emotions)\n",
        "\n",
        "        ### Softmax layer for the 8 output logits from final FC linear layer\n",
        "        self.softmax_out = nn.Softmax(dim=1) # dim==1 is the freq embedding\n",
        "\n",
        "    # define one complete parallel fwd pass of input feature tensor thru 2*conv+1*transformer blocks\n",
        "    def forward(self,x):\n",
        "\n",
        "        ############ 1st parallel Conv2D block: 4 Convolutional layers ############################\n",
        "        # create final feature embedding from 1st convolutional layer\n",
        "        # input features pased through 4 sequential 2D convolutional layers\n",
        "        conv2d_embedding1 = self.conv2Dblock1(x) # x == N/batch * channel * freq * time\n",
        "\n",
        "        # flatten final 64*1*8 feature map from convolutional layers to length 512 1D array\n",
        "        # skip the 1st (N/batch) dimension when flattening\n",
        "        conv2d_embedding1 = torch.flatten(conv2d_embedding1, start_dim=1)\n",
        "\n",
        "        ############ 2nd parallel Conv2D block: 4 Convolutional layers #############################\n",
        "        # create final feature embedding from 2nd convolutional layer\n",
        "        # input features pased through 4 sequential 2D convolutional layers\n",
        "        conv2d_embedding2 = self.conv2Dblock2(x) # x == N/batch * channel * freq * time\n",
        "\n",
        "        # flatten final 64*1*8 feature map from convolutional layers to length 512 1D array\n",
        "        # skip the 1st (N/batch) dimension when flattening\n",
        "        conv2d_embedding2 = torch.flatten(conv2d_embedding2, start_dim=1)\n",
        "\n",
        "\n",
        "        ########## 4-encoder-layer Transformer block w/ 40-->512-->40 feedfwd network ##############\n",
        "        # maxpool input feature map: 1*40*282 w/ 1*4 kernel --> 1*40*70\n",
        "        x_maxpool = self.transformer_maxpool(x)\n",
        "\n",
        "        # remove channel dim: 1*40*70 --> 40*70\n",
        "        x_maxpool_reduced = torch.squeeze(x_maxpool,1)\n",
        "\n",
        "        # convert maxpooled feature map format: batch * freq * time ---> time * batch * freq format\n",
        "        # because transformer encoder layer requires tensor in format: time * batch * embedding (freq)\n",
        "        x = x_maxpool_reduced.permute(2,0,1)\n",
        "\n",
        "        # finally, pass reduced input feature map x into transformer encoder layers\n",
        "        transformer_output = self.transformer_encoder(x)\n",
        "\n",
        "        # create final feature emedding from transformer layer by taking mean in the time dimension (now the 0th dim)\n",
        "        # transformer outputs 2x40 (MFCC embedding*time) feature map, take mean of columns i.e. take time average\n",
        "        transformer_embedding = torch.mean(transformer_output, dim=0) # dim 40x70 --> 40\n",
        "\n",
        "        ############# concatenate freq embeddings from convolutional and transformer blocks ######\n",
        "        # concatenate embedding tensors output by parallel 2*conv and 1*transformer blocks\n",
        "        complete_embedding = torch.cat([conv2d_embedding1, conv2d_embedding2,transformer_embedding], dim=1)\n",
        "\n",
        "        ######### final FC linear layer, need logits for loss #########################\n",
        "        output_logits = self.fc1_linear(complete_embedding)\n",
        "\n",
        "        ######### Final Softmax layer: use logits from FC linear, get softmax for prediction ######\n",
        "        output_softmax = self.softmax_out(output_logits)\n",
        "\n",
        "        # need output logits to compute cross entropy loss, need softmax probabilities to predict class\n",
        "        return output_logits, output_softmax"
      ],
      "metadata": {
        "id": "tkynSFsuy_5R"
      },
      "execution_count": null,
      "outputs": []
    },
    {
      "cell_type": "code",
      "source": [
        "from torchsummary import summary\n",
        "\n",
        "# need device to instantiate model\n",
        "device = 'cuda'\n",
        "\n",
        "# instantiate model for 8 emotions and move to GPU\n",
        "model = parallel_all_you_want(len(emotions_dict)).to(device)"
      ],
      "metadata": {
        "id": "hNjPBxVXzCWQ"
      },
      "execution_count": null,
      "outputs": []
    },
    {
      "cell_type": "markdown",
      "source": [
        "##Define Loss/Criterion"
      ],
      "metadata": {
        "id": "GcKa1rKXfEI0"
      }
    },
    {
      "cell_type": "code",
      "source": [
        "# define loss function; CrossEntropyLoss() fairly standard for multiclass problems\n",
        "def criterion(predictions, targets):\n",
        "    return nn.CrossEntropyLoss()(input=predictions, target=targets)"
      ],
      "metadata": {
        "id": "LP_a2RmrzCTS"
      },
      "execution_count": null,
      "outputs": []
    },
    {
      "cell_type": "markdown",
      "source": [
        "\n",
        "##Choose Optimizer"
      ],
      "metadata": {
        "id": "HJzQp3tHfJ_D"
      }
    },
    {
      "cell_type": "code",
      "source": [
        "optimizer = torch.optim.SGD(model.parameters(),lr=0.01, weight_decay=1e-3, momentum=0.8)"
      ],
      "metadata": {
        "id": "Y8bm5fhtzCLA"
      },
      "execution_count": null,
      "outputs": []
    },
    {
      "cell_type": "markdown",
      "source": [
        "##Define Training Step"
      ],
      "metadata": {
        "id": "vBM10nPvw5Ra"
      }
    },
    {
      "cell_type": "code",
      "source": [
        "# define function to create a single step of the training phase\n",
        "def make_train_step(model, criterion, optimizer):\n",
        "\n",
        "    # define the training step of the training phase\n",
        "    def train_step(X,Y):\n",
        "\n",
        "        # forward pass\n",
        "        output_logits, output_softmax = model(X)\n",
        "        predictions = torch.argmax(output_softmax,dim=1)\n",
        "        accuracy = torch.sum(Y==predictions)/float(len(Y))\n",
        "\n",
        "        # compute loss on logits because nn.CrossEntropyLoss implements log softmax\n",
        "        loss = criterion(output_logits, Y)\n",
        "\n",
        "        # compute gradients for the optimizer to use\n",
        "        loss.backward()\n",
        "\n",
        "        # update network parameters based on gradient stored (by calling loss.backward())\n",
        "        optimizer.step()\n",
        "\n",
        "        # zero out gradients for next pass\n",
        "        # pytorch accumulates gradients from backwards passes (convenient for RNNs)\n",
        "        optimizer.zero_grad()\n",
        "\n",
        "        return loss.item(), accuracy*100\n",
        "    return train_step"
      ],
      "metadata": {
        "id": "HxKMvgGWwxoR"
      },
      "execution_count": null,
      "outputs": []
    },
    {
      "cell_type": "markdown",
      "source": [
        "##Define Validation Step"
      ],
      "metadata": {
        "id": "DSkS2u-oxJCD"
      }
    },
    {
      "cell_type": "code",
      "source": [
        "def make_validate_fnc(model,criterion):\n",
        "    def validate(X,Y):\n",
        "\n",
        "        # don't want to update any network parameters on validation passes: don't need gradient\n",
        "        # wrap in torch.no_grad to save memory and compute in validation phase:\n",
        "        with torch.no_grad():\n",
        "\n",
        "            # set model to validation phase i.e. turn off dropout and batchnorm layers\n",
        "            model.eval()\n",
        "\n",
        "            # get the model's predictions on the validation set\n",
        "            output_logits, output_softmax = model(X)\n",
        "            predictions = torch.argmax(output_softmax,dim=1)\n",
        "\n",
        "            # calculate the mean accuracy over the entire validation set\n",
        "            accuracy = torch.sum(Y==predictions)/float(len(Y))\n",
        "\n",
        "            # compute error from logits (nn.crossentropy implements softmax)\n",
        "            loss = criterion(output_logits,Y)\n",
        "\n",
        "        return loss.item(), accuracy*100, predictions\n",
        "    return validate"
      ],
      "metadata": {
        "id": "FaAcZ1URxFzu"
      },
      "execution_count": null,
      "outputs": []
    },
    {
      "cell_type": "markdown",
      "source": [
        "##Make Checkpoint Functions"
      ],
      "metadata": {
        "id": "l4maXOPAxUQu"
      }
    },
    {
      "cell_type": "code",
      "source": [
        "def make_save_checkpoint():\n",
        "    def save_checkpoint(optimizer, model, epoch, filename):\n",
        "        checkpoint_dict = {\n",
        "            'optimizer': optimizer.state_dict(),\n",
        "            'model': model.state_dict(),\n",
        "            'epoch': epoch\n",
        "        }\n",
        "        torch.save(checkpoint_dict, filename)\n",
        "    return save_checkpoint\n",
        "\n",
        "def load_checkpoint(optimizer, model, filename):\n",
        "    checkpoint_dict = torch.load(filename)\n",
        "    epoch = checkpoint_dict['epoch']\n",
        "    model.load_state_dict(checkpoint_dict['model'])\n",
        "    if optimizer is not None:\n",
        "        optimizer.load_state_dict(checkpoint_dict['optimizer'])\n",
        "    return epoch"
      ],
      "metadata": {
        "id": "EzJlqLuRxP8e"
      },
      "execution_count": null,
      "outputs": []
    },
    {
      "cell_type": "markdown",
      "source": [
        "##Build Training Loop"
      ],
      "metadata": {
        "id": "M4qfnurOnwLX"
      }
    },
    {
      "cell_type": "code",
      "source": [
        "# get training set size to calculate # iterations and minibatch indices\n",
        "train_size = X_train.shape[0]\n",
        "\n",
        "# pick minibatch size (of 32... always)\n",
        "minibatch = 32\n",
        "\n",
        "# set device to GPU\n",
        "device = 'cuda' if torch.cuda.is_available() else 'cpu'\n",
        "print(f'{device} selected')\n",
        "\n",
        "# instantiate model and move to GPU for training\n",
        "model = parallel_all_you_want(num_emotions=len(emotions_dict)).to(device)\n",
        "print('Number of trainable params: ',sum(p.numel() for p in model.parameters()) )\n",
        "\n",
        "# encountered bugs in google colab only, unless I explicitly defined optimizer in this cell...\n",
        "optimizer = torch.optim.SGD(model.parameters(),lr=0.01, weight_decay=1e-3, momentum=0.8)\n",
        "\n",
        "# instantiate the checkpoint save function\n",
        "save_checkpoint = make_save_checkpoint()\n",
        "\n",
        "# instantiate the training step function\n",
        "train_step = make_train_step(model, criterion, optimizer=optimizer)\n",
        "\n",
        "# instantiate the validation loop function\n",
        "validate = make_validate_fnc(model,criterion)\n",
        "\n",
        "# instantiate lists to hold scalar performance metrics to plot later\n",
        "train_losses=[]\n",
        "valid_losses = []\n",
        "\n",
        "# create training loop for one complete epoch (entire training set)\n",
        "def train(optimizer, model, num_epochs, X_train, Y_train, X_valid, Y_valid):\n",
        "\n",
        "    for epoch in range(num_epochs):\n",
        "\n",
        "        # set model to train phase\n",
        "        model.train()\n",
        "\n",
        "        # shuffle entire training set in each epoch to randomize minibatch order\n",
        "        train_indices = np.random.permutation(train_size)\n",
        "\n",
        "        # shuffle the training set for each epoch:\n",
        "        X_train = X_train[train_indices,:,:,:]\n",
        "        Y_train = Y_train[train_indices]\n",
        "\n",
        "        # instantiate scalar values to keep track of progress after each epoch so we can stop training when appropriate\n",
        "        epoch_acc = 0\n",
        "        epoch_loss = 0\n",
        "        num_iterations = int(train_size / minibatch)\n",
        "\n",
        "        # create a loop for each minibatch of 32 samples:\n",
        "        for i in range(num_iterations):\n",
        "\n",
        "            # we have to track and update minibatch position for the current minibatch\n",
        "            # if we take a random batch position from a set, we almost certainly will skip some of the data in that set\n",
        "            # track minibatch position based on iteration number:\n",
        "            batch_start = i * minibatch\n",
        "            # ensure we don't go out of the bounds of our training set:\n",
        "            batch_end = min(batch_start + minibatch, train_size)\n",
        "            # ensure we don't have an index error\n",
        "            actual_batch_size = batch_end-batch_start\n",
        "\n",
        "            # get training minibatch with all channnels and 2D feature dims\n",
        "            X = X_train[batch_start:batch_end,:,:,:]\n",
        "            # get training minibatch labels\n",
        "            Y = Y_train[batch_start:batch_end]\n",
        "\n",
        "            # instantiate training tensors\n",
        "            X_tensor = torch.tensor(X, device=device).float()\n",
        "            Y_tensor = torch.tensor(Y, dtype=torch.long,device=device)\n",
        "\n",
        "            # Pass input tensors thru 1 training step (fwd+backwards pass)\n",
        "            loss, acc = train_step(X_tensor,Y_tensor)\n",
        "\n",
        "            # aggregate batch accuracy to measure progress of entire epoch\n",
        "            epoch_acc += acc * actual_batch_size / train_size\n",
        "            epoch_loss += loss * actual_batch_size / train_size\n",
        "\n",
        "            # keep track of the iteration to see if the model's too slow\n",
        "            print('\\r'+f'Epoch {epoch}: iteration {i}/{num_iterations}',end='')\n",
        "\n",
        "        # create tensors from validation set\n",
        "        X_valid_tensor = torch.tensor(X_valid,device=device).float()\n",
        "        Y_valid_tensor = torch.tensor(Y_valid,dtype=torch.long,device=device)\n",
        "\n",
        "        # calculate validation metrics to keep track of progress; don't need predictions now\n",
        "        valid_loss, valid_acc, _ = validate(X_valid_tensor,Y_valid_tensor)\n",
        "\n",
        "        # accumulate scalar performance metrics at each epoch to track and plot later\n",
        "        train_losses.append(epoch_loss)\n",
        "        valid_losses.append(valid_loss)\n",
        "\n",
        "        # Save checkpoint of the model\n",
        "        checkpoint_filename = '/content/gdrive/MyDrive/Colab Notebooks/parallel_all_you_wantFINAL-{:03d}.pkl'.format(epoch)\n",
        "        save_checkpoint(optimizer, model, epoch, checkpoint_filename)\n",
        "\n",
        "        # keep track of each epoch's progress\n",
        "        print(f'\\nEpoch {epoch} --- loss:{epoch_loss:.3f}, Epoch accuracy:{epoch_acc:.2f}%, Validation loss:{valid_loss:.3f}, Validation accuracy:{valid_acc:.2f}%')\n"
      ],
      "metadata": {
        "id": "xHpOzqiaxamX",
        "colab": {
          "base_uri": "https://localhost:8080/"
        },
        "outputId": "d4cd36b1-1b45-417f-c5ca-37b04179fd29"
      },
      "execution_count": null,
      "outputs": [
        {
          "output_type": "stream",
          "name": "stdout",
          "text": [
            "cuda selected\n",
            "Number of trainable params:  248488\n"
          ]
        }
      ]
    },
    {
      "cell_type": "markdown",
      "source": [
        "##Train Model"
      ],
      "metadata": {
        "id": "7nHciSpWoA3i"
      }
    },
    {
      "cell_type": "code",
      "source": [
        "\n",
        "num_epochs = 100\n",
        "\n",
        "# train it!\n",
        "train(optimizer, model, num_epochs, X_train, y_train, X_valid, y_valid)"
      ],
      "metadata": {
        "colab": {
          "base_uri": "https://localhost:8080/"
        },
        "id": "0hMODm-JnvFR",
        "outputId": "18283dd9-70b4-4737-bc10-0de99102438e"
      },
      "execution_count": null,
      "outputs": [
        {
          "output_type": "stream",
          "name": "stdout",
          "text": [
            "Epoch 0: iteration 106/107\n",
            "Epoch 0 --- loss:3.156, Epoch accuracy:25.57%, Validation loss:1.795, Validation accuracy:29.37%\n",
            "Epoch 1: iteration 106/107\n",
            "Epoch 1 --- loss:1.652, Epoch accuracy:36.18%, Validation loss:1.601, Validation accuracy:41.72%\n",
            "Epoch 2: iteration 106/107\n",
            "Epoch 2 --- loss:1.523, Epoch accuracy:41.62%, Validation loss:1.621, Validation accuracy:38.69%\n",
            "Epoch 3: iteration 106/107\n",
            "Epoch 3 --- loss:1.407, Epoch accuracy:46.38%, Validation loss:1.427, Validation accuracy:46.85%\n",
            "Epoch 4: iteration 106/107\n",
            "Epoch 4 --- loss:1.330, Epoch accuracy:49.46%, Validation loss:1.350, Validation accuracy:49.88%\n",
            "Epoch 5: iteration 106/107\n",
            "Epoch 5 --- loss:1.256, Epoch accuracy:52.25%, Validation loss:1.228, Validation accuracy:55.24%\n",
            "Epoch 6: iteration 106/107\n",
            "Epoch 6 --- loss:1.178, Epoch accuracy:56.76%, Validation loss:1.188, Validation accuracy:55.48%\n",
            "Epoch 7: iteration 106/107\n",
            "Epoch 7 --- loss:1.077, Epoch accuracy:59.55%, Validation loss:1.139, Validation accuracy:55.48%\n",
            "Epoch 8: iteration 106/107\n",
            "Epoch 8 --- loss:1.056, Epoch accuracy:59.66%, Validation loss:1.186, Validation accuracy:54.55%\n",
            "Epoch 9: iteration 106/107\n",
            "Epoch 9 --- loss:1.011, Epoch accuracy:62.54%, Validation loss:1.210, Validation accuracy:57.11%\n",
            "Epoch 10: iteration 106/107\n",
            "Epoch 10 --- loss:0.903, Epoch accuracy:66.14%, Validation loss:1.015, Validation accuracy:61.31%\n",
            "Epoch 11: iteration 106/107\n",
            "Epoch 11 --- loss:0.867, Epoch accuracy:67.54%, Validation loss:1.089, Validation accuracy:61.07%\n",
            "Epoch 12: iteration 106/107\n",
            "Epoch 12 --- loss:0.821, Epoch accuracy:69.98%, Validation loss:1.033, Validation accuracy:63.17%\n",
            "Epoch 13: iteration 106/107\n",
            "Epoch 13 --- loss:0.755, Epoch accuracy:71.72%, Validation loss:1.010, Validation accuracy:64.57%\n",
            "Epoch 14: iteration 106/107\n",
            "Epoch 14 --- loss:0.730, Epoch accuracy:72.30%, Validation loss:0.991, Validation accuracy:65.50%\n",
            "Epoch 15: iteration 106/107\n",
            "Epoch 15 --- loss:0.700, Epoch accuracy:73.82%, Validation loss:0.972, Validation accuracy:64.80%\n",
            "Epoch 16: iteration 106/107\n",
            "Epoch 16 --- loss:0.620, Epoch accuracy:77.22%, Validation loss:1.050, Validation accuracy:64.10%\n",
            "Epoch 17: iteration 106/107\n",
            "Epoch 17 --- loss:0.610, Epoch accuracy:77.19%, Validation loss:1.045, Validation accuracy:63.87%\n",
            "Epoch 18: iteration 106/107\n",
            "Epoch 18 --- loss:0.588, Epoch accuracy:77.68%, Validation loss:0.874, Validation accuracy:69.23%\n",
            "Epoch 19: iteration 106/107\n",
            "Epoch 19 --- loss:0.585, Epoch accuracy:78.49%, Validation loss:1.107, Validation accuracy:62.94%\n",
            "Epoch 20: iteration 106/107\n",
            "Epoch 20 --- loss:0.543, Epoch accuracy:79.42%, Validation loss:1.039, Validation accuracy:64.10%\n",
            "Epoch 21: iteration 106/107\n",
            "Epoch 21 --- loss:0.510, Epoch accuracy:81.34%, Validation loss:0.948, Validation accuracy:64.34%\n",
            "Epoch 22: iteration 106/107\n",
            "Epoch 22 --- loss:0.491, Epoch accuracy:81.95%, Validation loss:1.027, Validation accuracy:66.20%\n",
            "Epoch 23: iteration 106/107\n",
            "Epoch 23 --- loss:0.499, Epoch accuracy:81.17%, Validation loss:0.981, Validation accuracy:65.97%\n",
            "Epoch 24: iteration 106/107\n",
            "Epoch 24 --- loss:0.438, Epoch accuracy:83.90%, Validation loss:0.931, Validation accuracy:68.76%\n",
            "Epoch 25: iteration 106/107\n",
            "Epoch 25 --- loss:0.466, Epoch accuracy:82.80%, Validation loss:1.083, Validation accuracy:65.73%\n",
            "Epoch 26: iteration 106/107\n",
            "Epoch 26 --- loss:0.412, Epoch accuracy:84.92%, Validation loss:1.056, Validation accuracy:67.13%\n",
            "Epoch 27: iteration 106/107\n",
            "Epoch 27 --- loss:0.386, Epoch accuracy:85.50%, Validation loss:1.038, Validation accuracy:66.43%\n",
            "Epoch 28: iteration 106/107\n",
            "Epoch 28 --- loss:0.365, Epoch accuracy:86.05%, Validation loss:1.112, Validation accuracy:67.37%\n",
            "Epoch 29: iteration 106/107\n",
            "Epoch 29 --- loss:0.367, Epoch accuracy:85.88%, Validation loss:1.012, Validation accuracy:69.70%\n",
            "Epoch 30: iteration 106/107\n",
            "Epoch 30 --- loss:0.347, Epoch accuracy:87.10%, Validation loss:0.955, Validation accuracy:70.16%\n",
            "Epoch 31: iteration 106/107\n",
            "Epoch 31 --- loss:0.329, Epoch accuracy:87.65%, Validation loss:1.026, Validation accuracy:66.43%\n",
            "Epoch 32: iteration 106/107\n",
            "Epoch 32 --- loss:0.313, Epoch accuracy:88.49%, Validation loss:1.261, Validation accuracy:65.73%\n",
            "Epoch 33: iteration 106/107\n",
            "Epoch 33 --- loss:0.300, Epoch accuracy:88.93%, Validation loss:1.204, Validation accuracy:64.10%\n",
            "Epoch 34: iteration 106/107\n",
            "Epoch 34 --- loss:0.309, Epoch accuracy:88.40%, Validation loss:1.054, Validation accuracy:67.37%\n",
            "Epoch 35: iteration 106/107\n",
            "Epoch 35 --- loss:0.319, Epoch accuracy:87.21%, Validation loss:1.092, Validation accuracy:67.13%\n",
            "Epoch 36: iteration 106/107\n",
            "Epoch 36 --- loss:0.263, Epoch accuracy:91.05%, Validation loss:0.954, Validation accuracy:67.37%\n",
            "Epoch 37: iteration 106/107\n",
            "Epoch 37 --- loss:0.259, Epoch accuracy:90.00%, Validation loss:1.140, Validation accuracy:65.73%\n",
            "Epoch 38: iteration 106/107\n",
            "Epoch 38 --- loss:0.259, Epoch accuracy:90.76%, Validation loss:1.130, Validation accuracy:68.53%\n",
            "Epoch 39: iteration 106/107\n",
            "Epoch 39 --- loss:0.240, Epoch accuracy:91.19%, Validation loss:1.051, Validation accuracy:67.60%\n",
            "Epoch 40: iteration 106/107\n",
            "Epoch 40 --- loss:0.239, Epoch accuracy:91.31%, Validation loss:1.102, Validation accuracy:66.90%\n",
            "Epoch 41: iteration 106/107\n",
            "Epoch 41 --- loss:0.220, Epoch accuracy:91.95%, Validation loss:1.101, Validation accuracy:70.86%\n",
            "Epoch 42: iteration 106/107\n",
            "Epoch 42 --- loss:0.208, Epoch accuracy:92.42%, Validation loss:1.061, Validation accuracy:69.93%\n",
            "Epoch 43: iteration 106/107\n",
            "Epoch 43 --- loss:0.201, Epoch accuracy:92.62%, Validation loss:1.101, Validation accuracy:68.30%\n",
            "Epoch 44: iteration 106/107\n",
            "Epoch 44 --- loss:0.208, Epoch accuracy:92.21%, Validation loss:1.240, Validation accuracy:66.20%\n",
            "Epoch 45: iteration 106/107\n",
            "Epoch 45 --- loss:0.187, Epoch accuracy:93.29%, Validation loss:1.224, Validation accuracy:69.00%\n",
            "Epoch 46: iteration 106/107\n",
            "Epoch 46 --- loss:0.195, Epoch accuracy:92.82%, Validation loss:1.065, Validation accuracy:72.49%\n",
            "Epoch 47: iteration 106/107\n",
            "Epoch 47 --- loss:0.186, Epoch accuracy:93.17%, Validation loss:1.124, Validation accuracy:69.46%\n",
            "Epoch 48: iteration 106/107\n",
            "Epoch 48 --- loss:0.178, Epoch accuracy:93.35%, Validation loss:1.271, Validation accuracy:65.73%\n",
            "Epoch 49: iteration 106/107\n",
            "Epoch 49 --- loss:0.190, Epoch accuracy:92.82%, Validation loss:1.136, Validation accuracy:68.30%\n",
            "Epoch 50: iteration 106/107\n",
            "Epoch 50 --- loss:0.171, Epoch accuracy:93.75%, Validation loss:1.127, Validation accuracy:69.23%\n",
            "Epoch 51: iteration 106/107\n",
            "Epoch 51 --- loss:0.158, Epoch accuracy:94.01%, Validation loss:1.030, Validation accuracy:73.43%\n",
            "Epoch 52: iteration 106/107\n",
            "Epoch 52 --- loss:0.139, Epoch accuracy:95.06%, Validation loss:1.165, Validation accuracy:70.16%\n",
            "Epoch 53: iteration 106/107\n",
            "Epoch 53 --- loss:0.142, Epoch accuracy:94.83%, Validation loss:1.094, Validation accuracy:70.86%\n",
            "Epoch 54: iteration 106/107\n",
            "Epoch 54 --- loss:0.141, Epoch accuracy:94.62%, Validation loss:1.119, Validation accuracy:70.40%\n",
            "Epoch 55: iteration 106/107\n",
            "Epoch 55 --- loss:0.144, Epoch accuracy:94.65%, Validation loss:1.076, Validation accuracy:70.16%\n",
            "Epoch 56: iteration 106/107\n",
            "Epoch 56 --- loss:0.126, Epoch accuracy:95.32%, Validation loss:1.115, Validation accuracy:71.33%\n",
            "Epoch 57: iteration 106/107\n",
            "Epoch 57 --- loss:0.126, Epoch accuracy:95.64%, Validation loss:1.308, Validation accuracy:68.53%\n",
            "Epoch 58: iteration 106/107\n",
            "Epoch 58 --- loss:0.132, Epoch accuracy:94.97%, Validation loss:1.123, Validation accuracy:71.10%\n",
            "Epoch 59: iteration 106/107\n",
            "Epoch 59 --- loss:0.113, Epoch accuracy:96.02%, Validation loss:1.251, Validation accuracy:68.76%\n",
            "Epoch 60: iteration 106/107\n",
            "Epoch 60 --- loss:0.140, Epoch accuracy:95.20%, Validation loss:1.299, Validation accuracy:65.73%\n",
            "Epoch 61: iteration 106/107\n",
            "Epoch 61 --- loss:0.111, Epoch accuracy:96.22%, Validation loss:1.248, Validation accuracy:69.46%\n",
            "Epoch 62: iteration 106/107\n",
            "Epoch 62 --- loss:0.112, Epoch accuracy:95.55%, Validation loss:1.171, Validation accuracy:72.03%\n",
            "Epoch 63: iteration 106/107\n",
            "Epoch 63 --- loss:0.107, Epoch accuracy:96.22%, Validation loss:1.105, Validation accuracy:73.43%\n",
            "Epoch 64: iteration 106/107\n",
            "Epoch 64 --- loss:0.096, Epoch accuracy:96.51%, Validation loss:1.286, Validation accuracy:69.70%\n",
            "Epoch 65: iteration 106/107\n",
            "Epoch 65 --- loss:0.097, Epoch accuracy:96.92%, Validation loss:1.359, Validation accuracy:67.83%\n",
            "Epoch 66: iteration 106/107\n",
            "Epoch 66 --- loss:0.107, Epoch accuracy:96.16%, Validation loss:1.214, Validation accuracy:72.26%\n",
            "Epoch 67: iteration 106/107\n",
            "Epoch 67 --- loss:0.094, Epoch accuracy:96.80%, Validation loss:1.228, Validation accuracy:71.33%\n",
            "Epoch 68: iteration 106/107\n",
            "Epoch 68 --- loss:0.103, Epoch accuracy:96.08%, Validation loss:1.232, Validation accuracy:70.63%\n",
            "Epoch 69: iteration 106/107\n",
            "Epoch 69 --- loss:0.108, Epoch accuracy:95.96%, Validation loss:1.209, Validation accuracy:69.00%\n",
            "Epoch 70: iteration 106/107\n",
            "Epoch 70 --- loss:0.093, Epoch accuracy:96.69%, Validation loss:1.248, Validation accuracy:69.93%\n",
            "Epoch 71: iteration 106/107\n",
            "Epoch 71 --- loss:0.084, Epoch accuracy:97.04%, Validation loss:1.170, Validation accuracy:71.10%\n",
            "Epoch 72: iteration 106/107\n",
            "Epoch 72 --- loss:0.085, Epoch accuracy:97.06%, Validation loss:1.569, Validation accuracy:66.67%\n",
            "Epoch 73: iteration 106/107\n",
            "Epoch 73 --- loss:0.084, Epoch accuracy:97.06%, Validation loss:1.233, Validation accuracy:71.56%\n",
            "Epoch 74: iteration 106/107\n",
            "Epoch 74 --- loss:0.084, Epoch accuracy:96.83%, Validation loss:1.171, Validation accuracy:71.33%\n",
            "Epoch 75: iteration 106/107\n",
            "Epoch 75 --- loss:0.074, Epoch accuracy:97.68%, Validation loss:1.297, Validation accuracy:68.53%\n",
            "Epoch 76: iteration 106/107\n",
            "Epoch 76 --- loss:0.073, Epoch accuracy:97.59%, Validation loss:1.327, Validation accuracy:68.53%\n",
            "Epoch 77: iteration 106/107\n",
            "Epoch 77 --- loss:0.080, Epoch accuracy:97.24%, Validation loss:1.437, Validation accuracy:69.46%\n",
            "Epoch 78: iteration 106/107\n",
            "Epoch 78 --- loss:0.072, Epoch accuracy:97.56%, Validation loss:1.223, Validation accuracy:70.40%\n",
            "Epoch 79: iteration 106/107\n",
            "Epoch 79 --- loss:0.092, Epoch accuracy:96.60%, Validation loss:1.202, Validation accuracy:70.63%\n",
            "Epoch 80: iteration 106/107\n",
            "Epoch 80 --- loss:0.064, Epoch accuracy:97.79%, Validation loss:1.254, Validation accuracy:69.93%\n",
            "Epoch 81: iteration 106/107\n",
            "Epoch 81 --- loss:0.074, Epoch accuracy:97.47%, Validation loss:1.351, Validation accuracy:67.60%\n",
            "Epoch 82: iteration 106/107\n",
            "Epoch 82 --- loss:0.075, Epoch accuracy:97.30%, Validation loss:1.245, Validation accuracy:70.40%\n",
            "Epoch 83: iteration 106/107\n",
            "Epoch 83 --- loss:0.067, Epoch accuracy:97.85%, Validation loss:1.295, Validation accuracy:69.70%\n",
            "Epoch 84: iteration 106/107\n",
            "Epoch 84 --- loss:0.070, Epoch accuracy:97.62%, Validation loss:1.430, Validation accuracy:68.76%\n",
            "Epoch 85: iteration 106/107\n",
            "Epoch 85 --- loss:0.090, Epoch accuracy:96.45%, Validation loss:1.281, Validation accuracy:68.07%\n",
            "Epoch 86: iteration 106/107\n",
            "Epoch 86 --- loss:0.075, Epoch accuracy:97.33%, Validation loss:1.441, Validation accuracy:70.40%\n",
            "Epoch 87: iteration 106/107\n",
            "Epoch 87 --- loss:0.086, Epoch accuracy:96.80%, Validation loss:1.393, Validation accuracy:70.63%\n",
            "Epoch 88: iteration 106/107\n",
            "Epoch 88 --- loss:0.057, Epoch accuracy:98.11%, Validation loss:1.263, Validation accuracy:71.10%\n",
            "Epoch 89: iteration 106/107\n",
            "Epoch 89 --- loss:0.079, Epoch accuracy:96.80%, Validation loss:1.362, Validation accuracy:68.53%\n",
            "Epoch 90: iteration 106/107\n",
            "Epoch 90 --- loss:0.065, Epoch accuracy:97.50%, Validation loss:1.348, Validation accuracy:69.46%\n",
            "Epoch 91: iteration 106/107\n",
            "Epoch 91 --- loss:0.059, Epoch accuracy:97.85%, Validation loss:1.334, Validation accuracy:71.10%\n",
            "Epoch 92: iteration 106/107\n",
            "Epoch 92 --- loss:0.080, Epoch accuracy:97.06%, Validation loss:1.460, Validation accuracy:69.46%\n",
            "Epoch 93: iteration 106/107\n",
            "Epoch 93 --- loss:0.059, Epoch accuracy:97.99%, Validation loss:1.463, Validation accuracy:68.07%\n",
            "Epoch 94: iteration 106/107\n",
            "Epoch 94 --- loss:0.073, Epoch accuracy:97.38%, Validation loss:1.304, Validation accuracy:71.79%\n",
            "Epoch 95: iteration 106/107\n",
            "Epoch 95 --- loss:0.055, Epoch accuracy:98.05%, Validation loss:1.238, Validation accuracy:71.56%\n",
            "Epoch 96: iteration 106/107\n",
            "Epoch 96 --- loss:0.060, Epoch accuracy:97.97%, Validation loss:1.390, Validation accuracy:70.40%\n",
            "Epoch 97: iteration 106/107\n",
            "Epoch 97 --- loss:0.051, Epoch accuracy:98.17%, Validation loss:1.274, Validation accuracy:73.43%\n",
            "Epoch 98: iteration 106/107\n",
            "Epoch 98 --- loss:0.049, Epoch accuracy:98.26%, Validation loss:1.447, Validation accuracy:69.00%\n",
            "Epoch 99: iteration 106/107\n",
            "Epoch 99 --- loss:0.058, Epoch accuracy:97.79%, Validation loss:1.373, Validation accuracy:69.70%\n"
          ]
        }
      ]
    },
    {
      "cell_type": "markdown",
      "source": [
        "##Check the Loss Curve's Behaviour"
      ],
      "metadata": {
        "id": "kXaGh_sEoS8k"
      }
    },
    {
      "cell_type": "code",
      "source": [
        "plt.title('Loss Curve for Parallel is All You Want Model')\n",
        "plt.ylabel('Loss', fontsize=16)\n",
        "plt.xlabel('Epoch', fontsize=16)\n",
        "plt.plot(train_losses[:],'b')\n",
        "plt.plot(valid_losses[:],'r')\n",
        "plt.legend(['Training loss','Validation loss'])\n",
        "plt.show()"
      ],
      "metadata": {
        "id": "v4NVKmfFxaZ0",
        "colab": {
          "base_uri": "https://localhost:8080/",
          "height": 478
        },
        "outputId": "4d38a020-fd49-4ac6-b7d5-17e94347a3b0"
      },
      "execution_count": null,
      "outputs": [
        {
          "output_type": "display_data",
          "data": {
            "text/plain": [
              "<Figure size 640x480 with 1 Axes>"
            ],
            "image/png": "[encoded data removed]"
          },
          "metadata": {}
        }
      ]
    },
    {
      "cell_type": "markdown",
      "source": [
        "##Load the Trained Model from Checkpoint for Evaluation"
      ],
      "metadata": {
        "id": "-N_Ho2SSoX4Z"
      }
    },
    {
      "cell_type": "code",
      "source": [
        "\n",
        "# pick load folder\n",
        "load_folder = '/content/gdrive/MyDrive/Colab Notebooks'\n",
        "\n",
        "# pick the epoch to load\n",
        "epoch = '098'\n",
        "model_name = f'parallel_all_you_wantFINAL-{epoch}.pkl'\n",
        "\n",
        "# make full load path\n",
        "load_path = os.path.join(load_folder, model_name)\n",
        "\n",
        "## instantiate empty model and populate with params from binary\n",
        "model = parallel_all_you_want(len(emotions_dict))\n",
        "load_checkpoint(optimizer, model, load_path)\n",
        "\n",
        "print(f'Loaded model from {load_path}')"
      ],
      "metadata": {
        "id": "kuBHXEh3xaXe",
        "colab": {
          "base_uri": "https://localhost:8080/"
        },
        "outputId": "358961d0-9f99-41b8-cf35-dcae429a6efa"
      },
      "execution_count": null,
      "outputs": [
        {
          "output_type": "stream",
          "name": "stdout",
          "text": [
            "Loaded model from /content/gdrive/MyDrive/Colab Notebooks/parallel_all_you_wantFINAL-098.pkl\n"
          ]
        }
      ]
    },
    {
      "cell_type": "markdown",
      "source": [
        "##Evaluate the Model on Hold-Out Test Set"
      ],
      "metadata": {
        "id": "EcxGiTI1omZh"
      }
    },
    {
      "cell_type": "code",
      "source": [
        "# # reinitialize validation function with model from chosen checkpoint\n",
        "# validate = make_validate_fnc(model,criterion)\n",
        "\n",
        "# # Convert 4D test feature set array to tensor and move to GPU\n",
        "# X_test_tensor = torch.tensor(X_test,device=device).float()\n",
        "# # Convert 4D test label set array to tensor and move to GPU\n",
        "# y_test_tensor = torch.tensor(y_test,dtype=torch.long,device=device)\n",
        "\n",
        "# # Get the model's performance metrics using the validation function we defined\n",
        "# test_loss, test_acc, predicted_emotions = validate(X_test_tensor,y_test_tensor)\n",
        "\n",
        "# print(f'Test accuracy is {test_acc:.2f}%')\n",
        "\n",
        "\n",
        "\n",
        "\n",
        "# Move the model to the GPU if it's not already there\n",
        "model.to(device)\n",
        "\n",
        "# Convert 4D test feature set array to tensor and move to GPU\n",
        "X_test_tensor = torch.tensor(X_test, device=device).float()\n",
        "# Convert 4D test label set array to tensor and move to GPU\n",
        "y_test_tensor = torch.tensor(y_test, dtype=torch.long, device=device)\n",
        "\n",
        "# Get the model's performance metrics using the validation function we defined\n",
        "test_loss, test_acc, predicted_emotions = validate(X_test_tensor, y_test_tensor)\n",
        "\n",
        "print(f'Test accuracy is {test_acc:.2f}%')\n"
      ],
      "metadata": {
        "id": "COllDMhSxaUz",
        "colab": {
          "base_uri": "https://localhost:8080/"
        },
        "outputId": "241f760c-b071-4544-99c9-1961e86c9b6f"
      },
      "execution_count": null,
      "outputs": [
        {
          "output_type": "stream",
          "name": "stdout",
          "text": [
            "Test accuracy is 71.33%\n"
          ]
        }
      ]
    },
    {
      "cell_type": "markdown",
      "source": [
        "##Analyze Performance on Test Set"
      ],
      "metadata": {
        "id": "8BQ_9M6dosZ1"
      }
    },
    {
      "cell_type": "code",
      "source": [
        "from sklearn.metrics import confusion_matrix\n",
        "import seaborn as sn\n",
        "\n",
        "# because model tested on GPU, move prediction tensor to CPU then convert to array\n",
        "predicted_emotions = predicted_emotions.cpu().numpy()\n",
        "# use labels from test set\n",
        "emotions_groundtruth = y_test\n",
        "\n",
        "# build confusion matrix and normalized confusion matrix\n",
        "conf_matrix = confusion_matrix(emotions_groundtruth, predicted_emotions)\n",
        "conf_matrix_norm = confusion_matrix(emotions_groundtruth, predicted_emotions,normalize='true')\n",
        "\n",
        "# set labels for matrix axes from emotions\n",
        "emotion_names = [emotion for emotion in emotions_dict.values()]\n",
        "\n",
        "# make a confusion matrix with labels using a DataFrame\n",
        "confmatrix_df = pd.DataFrame(conf_matrix, index=emotion_names, columns=emotion_names)\n",
        "confmatrix_df_norm = pd.DataFrame(conf_matrix_norm, index=emotion_names, columns=emotion_names)\n",
        "\n",
        "# plot confusion matrices\n",
        "plt.figure(figsize=(16,6))\n",
        "sn.set(font_scale=1.8) # emotion label and title size\n",
        "plt.subplot(1,2,1)\n",
        "plt.title('Confusion Matrix')\n",
        "sn.heatmap(confmatrix_df, annot=True, annot_kws={\"size\": 18}) #annot_kws is value font\n",
        "plt.subplot(1,2,2)\n",
        "plt.title('Normalized Confusion Matrix')\n",
        "sn.heatmap(confmatrix_df_norm, annot=True, annot_kws={\"size\": 13}) #annot_kws is value font\n",
        "\n",
        "plt.show()"
      ],
      "metadata": {
        "colab": {
          "base_uri": "https://localhost:8080/",
          "height": 641
        },
        "id": "4B0Yzg4SosLb",
        "outputId": "faab0797-aedf-4acd-e56f-71be1b316ec9"
      },
      "execution_count": null,
      "outputs": [
        {
          "output_type": "display_data",
          "data": {
            "text/plain": [
              "<Figure size 1600x600 with 4 Axes>"
            ],
            "image/png": "[encoded data removed]"
          },
          "metadata": {}
        }
      ]
    }
  ]
}